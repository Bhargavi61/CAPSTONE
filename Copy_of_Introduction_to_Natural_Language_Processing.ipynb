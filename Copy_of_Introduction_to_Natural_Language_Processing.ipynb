{
  "nbformat": 4,
  "nbformat_minor": 0,
  "metadata": {
    "colab": {
      "provenance": [],
      "collapsed_sections": [
        "cd8PYqtyxTt8"
      ],
      "include_colab_link": true
    },
    "kernelspec": {
      "name": "python3",
      "display_name": "Python 3"
    }
  },
  "cells": [
    {
      "cell_type": "markdown",
      "metadata": {
        "id": "view-in-github",
        "colab_type": "text"
      },
      "source": [
        "<a href=\"https://colab.research.google.com/github/Bhargavi61/CAPSTONE/blob/main/Copy_of_Introduction_to_Natural_Language_Processing.ipynb\" target=\"_parent\"><img src=\"https://colab.research.google.com/assets/colab-badge.svg\" alt=\"Open In Colab\"/></a>"
      ]
    },
    {
      "cell_type": "markdown",
      "metadata": {
        "id": "RPuBqCCFCgvR"
      },
      "source": [
        "# Introduction to Natural Language Processing"
      ]
    },
    {
      "cell_type": "markdown",
      "metadata": {
        "id": "DMvt1D5QESDK"
      },
      "source": [
        "# Installing the libraries\n",
        "\n",
        "- spaCy: https://spacy.io/"
      ]
    },
    {
      "cell_type": "code",
      "metadata": {
        "id": "6C2UYzqul3dH"
      },
      "source": [
        "!pip install spacy --upgrade"
      ],
      "execution_count": null,
      "outputs": []
    },
    {
      "cell_type": "code",
      "metadata": {
        "id": "l_jH1EasmSAm"
      },
      "source": [
        "import spacy\n",
        "spacy.__version__"
      ],
      "execution_count": null,
      "outputs": []
    },
    {
      "cell_type": "code",
      "metadata": {
        "id": "x8afShs9mZUh"
      },
      "source": [
        "!python -m spacy download pt_core_news_sm\n",
        "# Portugese"
      ],
      "execution_count": null,
      "outputs": []
    },
    {
      "cell_type": "code",
      "metadata": {
        "id": "cEj-o4eJmvI0"
      },
      "source": [
        "!python -m spacy download fr_core_news_sm\n",
        "# French"
      ],
      "execution_count": null,
      "outputs": []
    },
    {
      "cell_type": "code",
      "metadata": {
        "id": "Bewc0GDanDtR"
      },
      "source": [
        "!python -m spacy download en_core_web_sm\n",
        "# English"
      ],
      "execution_count": null,
      "outputs": []
    },
    {
      "cell_type": "markdown",
      "metadata": {
        "id": "bJ2s3MS6EXBe"
      },
      "source": [
        "# POS (part-of-speech)\n",
        "\n",
        "- POS (part-of-speech): noun, adjective, verb\n",
        "- It is important to find named entities\n",
        "- Tags: https://ashutoshtripathi.com/2020/04/13/parts-of-speech-tagging-and-dependency-parsing-using-spacy-nlp/"
      ]
    },
    {
      "cell_type": "code",
      "metadata": {
        "id": "bcC4f065A3Gf"
      },
      "source": [
        "import en_core_web_sm\n",
        "# Import English Language module"
      ],
      "execution_count": 6,
      "outputs": []
    },
    {
      "cell_type": "code",
      "metadata": {
        "id": "akKSLOFXA8ri"
      },
      "source": [
        "nlp = spacy.load('en_core_web_sm')\n",
        "# Load English module into the variable 'nlp'"
      ],
      "execution_count": 7,
      "outputs": []
    },
    {
      "cell_type": "code",
      "metadata": {
        "colab": {
          "base_uri": "https://localhost:8080/"
        },
        "id": "ae70_AvFBIwz",
        "outputId": "e3c0a596-6428-4d1c-f346-06fd5cb99c00"
      },
      "source": [
        "nlp\n",
        "# To check if nlp is associated with English"
      ],
      "execution_count": 8,
      "outputs": [
        {
          "output_type": "execute_result",
          "data": {
            "text/plain": [
              "<spacy.lang.en.English at 0x7cad5a287f40>"
            ]
          },
          "metadata": {},
          "execution_count": 8
        }
      ]
    },
    {
      "cell_type": "code",
      "metadata": {
        "id": "V4HQeueHBQIm"
      },
      "source": [
        "document = nlp('I am learning natural language processing. The course is in London')"
      ],
      "execution_count": 9,
      "outputs": []
    },
    {
      "cell_type": "code",
      "metadata": {
        "colab": {
          "base_uri": "https://localhost:8080/"
        },
        "id": "aeK6-GTHBlEc",
        "outputId": "920202a0-e150-41e0-d7ba-f8dd8e4acde4"
      },
      "source": [
        "for token in document:\n",
        "  print(token.text, \"-\", token.pos_)"
      ],
      "execution_count": 10,
      "outputs": [
        {
          "output_type": "stream",
          "name": "stdout",
          "text": [
            "I - PRON\n",
            "am - AUX\n",
            "learning - VERB\n",
            "natural - ADJ\n",
            "language - NOUN\n",
            "processing - NOUN\n",
            ". - PUNCT\n",
            "The - DET\n",
            "course - NOUN\n",
            "is - AUX\n",
            "in - ADP\n",
            "London - PROPN\n"
          ]
        }
      ]
    },
    {
      "cell_type": "markdown",
      "metadata": {
        "id": "eGd1tq7mLv_M"
      },
      "source": [
        "## Legend\n",
        "\n",
        "- lemma: \"root\" of the word\n",
        "- pos: part-of-speech  \n",
        "- tag: morfological information (present, future, past)\n",
        "- dep: syntatic dependency\n",
        "- shape: lowercase, uppercasa\n",
        "- alpha: if it is alphanumeric\n",
        "- stop: if it is a stop word"
      ]
    },
    {
      "cell_type": "code",
      "metadata": {
        "colab": {
          "base_uri": "https://localhost:8080/"
        },
        "id": "RF9DSLSmEEDN",
        "outputId": "b0e89cad-76b0-4a5a-cbe6-003e23c5d0be"
      },
      "source": [
        "for token in document:\n",
        "  print(token.text, \"-\", token.pos_, \"--\", token.lemma_, \"-\", token.tag_, \"-\", token.dep_, \"-\", token.shape_, \"-\", token.is_alpha, \"-\", token.is_stop)"
      ],
      "execution_count": 11,
      "outputs": [
        {
          "output_type": "stream",
          "name": "stdout",
          "text": [
            "I - PRON -- I - PRP - nsubj - X - True - True\n",
            "am - AUX -- be - VBP - aux - xx - True - True\n",
            "learning - VERB -- learn - VBG - ROOT - xxxx - True - False\n",
            "natural - ADJ -- natural - JJ - amod - xxxx - True - False\n",
            "language - NOUN -- language - NN - compound - xxxx - True - False\n",
            "processing - NOUN -- processing - NN - dobj - xxxx - True - False\n",
            ". - PUNCT -- . - . - punct - . - False - False\n",
            "The - DET -- the - DT - det - Xxx - True - True\n",
            "course - NOUN -- course - NN - nsubj - xxxx - True - False\n",
            "is - AUX -- be - VBZ - ROOT - xx - True - True\n",
            "in - ADP -- in - IN - prep - xx - True - True\n",
            "London - PROPN -- London - NNP - pobj - Xxxxx - True - False\n"
          ]
        }
      ]
    },
    {
      "cell_type": "code",
      "metadata": {
        "colab": {
          "base_uri": "https://localhost:8080/"
        },
        "id": "tR17CDRKE2xL",
        "outputId": "764497c8-c226-4a25-80da-d47d8a768f3d"
      },
      "source": [
        "for token in document:\n",
        "  if token.pos_ == 'PROPN':\n",
        "    print(token.text)"
      ],
      "execution_count": 12,
      "outputs": [
        {
          "output_type": "stream",
          "name": "stdout",
          "text": [
            "London\n"
          ]
        }
      ]
    },
    {
      "cell_type": "code",
      "metadata": {
        "colab": {
          "base_uri": "https://localhost:8080/"
        },
        "id": "KtENGXWUFGor",
        "outputId": "0d6d7a5f-ec48-4c23-e805-cd47154b008c"
      },
      "source": [
        "for token in document:\n",
        "  if token.pos_ == 'VERB':\n",
        "    print(token.text)"
      ],
      "execution_count": 13,
      "outputs": [
        {
          "output_type": "stream",
          "name": "stdout",
          "text": [
            "learning\n"
          ]
        }
      ]
    },
    {
      "cell_type": "markdown",
      "metadata": {
        "id": "DctwAtI_NLym"
      },
      "source": [
        "# Lemmatization and stemming\n",
        "\n",
        "- Lemmatization: meaning of the word based on the dictionary (morphological analysis) - extract the base word\n",
        "- Stemming: extract the root of the word"
      ]
    },
    {
      "cell_type": "code",
      "metadata": {
        "colab": {
          "base_uri": "https://localhost:8080/"
        },
        "id": "VY0RTmRLGFNQ",
        "outputId": "7c31ae62-7b07-466d-8e07-47cad5037163"
      },
      "source": [
        "for token in document:\n",
        "  print(token.text, \"-\", token.lemma_)"
      ],
      "execution_count": 14,
      "outputs": [
        {
          "output_type": "stream",
          "name": "stdout",
          "text": [
            "I - I\n",
            "am - be\n",
            "learning - learn\n",
            "natural - natural\n",
            "language - language\n",
            "processing - processing\n",
            ". - .\n",
            "The - the\n",
            "course - course\n",
            "is - be\n",
            "in - in\n",
            "London - London\n"
          ]
        }
      ]
    },
    {
      "cell_type": "code",
      "metadata": {
        "colab": {
          "base_uri": "https://localhost:8080/"
        },
        "id": "_P58MJ3oGscr",
        "outputId": "a9185536-e86e-42ba-b738-9ecfd4188560"
      },
      "source": [
        "doc = nlp('learn learning watch watching watched')\n",
        "[token.lemma_ for token in doc]"
      ],
      "execution_count": 16,
      "outputs": [
        {
          "output_type": "execute_result",
          "data": {
            "text/plain": [
              "['learn', 'learn', 'watch', 'watch', 'watch']"
            ]
          },
          "metadata": {},
          "execution_count": 16
        }
      ]
    },
    {
      "cell_type": "markdown",
      "metadata": {
        "id": "zVz8tGTiZN6C"
      },
      "source": [
        "## Lemmatization x Stemming"
      ]
    },
    {
      "cell_type": "code",
      "metadata": {
        "id": "VRRQJNHuHwhv"
      },
      "source": [
        "import nltk"
      ],
      "execution_count": null,
      "outputs": []
    },
    {
      "cell_type": "code",
      "metadata": {
        "colab": {
          "base_uri": "https://localhost:8080/",
          "height": 35
        },
        "id": "Dli2NuD0H2mB",
        "outputId": "fb41c678-ac61-4619-e932-b6ab4f1f28ea"
      },
      "source": [
        "stemmer = nltk.stem.PorterStemmer()\n",
        "stemmer.stem('learning')"
      ],
      "execution_count": null,
      "outputs": [
        {
          "output_type": "execute_result",
          "data": {
            "text/plain": [
              "'learn'"
            ],
            "application/vnd.google.colaboratory.intrinsic+json": {
              "type": "string"
            }
          },
          "metadata": {},
          "execution_count": 17
        }
      ]
    },
    {
      "cell_type": "code",
      "metadata": {
        "colab": {
          "base_uri": "https://localhost:8080/",
          "height": 35
        },
        "id": "5zs-oRBFIIPS",
        "outputId": "95877a54-e02f-4665-8b5b-a059e7879fa6"
      },
      "source": [
        "stemmer.stem('watching')"
      ],
      "execution_count": null,
      "outputs": [
        {
          "output_type": "execute_result",
          "data": {
            "text/plain": [
              "'watch'"
            ],
            "application/vnd.google.colaboratory.intrinsic+json": {
              "type": "string"
            }
          },
          "metadata": {},
          "execution_count": 18
        }
      ]
    },
    {
      "cell_type": "code",
      "metadata": {
        "colab": {
          "base_uri": "https://localhost:8080/"
        },
        "id": "oJUz1fzuIPe1",
        "outputId": "7f7b0e4b-db4a-44e6-ca0c-8283cb91d593"
      },
      "source": [
        "for token in document:\n",
        "  print(token.text, token.lemma_, stemmer.stem(token.text))"
      ],
      "execution_count": null,
      "outputs": [
        {
          "output_type": "stream",
          "name": "stdout",
          "text": [
            "I I i\n",
            "am be am\n",
            "learning learn learn\n",
            "natural natural natur\n",
            "language language languag\n",
            "processing processing process\n",
            ". . .\n",
            "The the the\n",
            "course course cours\n",
            "is be is\n",
            "in in in\n",
            "London London london\n"
          ]
        }
      ]
    },
    {
      "cell_type": "markdown",
      "metadata": {
        "id": "PtacHcwVZ4PH"
      },
      "source": [
        "# Named-entity recognition (NER)\n",
        "\n",
        "- List of tags: https://towardsdatascience.com/named-entity-recognition-ner-using-spacy-nlp-part-4-28da2ece57c6"
      ]
    },
    {
      "cell_type": "code",
      "metadata": {
        "id": "e33koihAMQYA"
      },
      "source": [
        "text = 'IBM is a US company on information technology. It is located in San Francisco and revenue in 2018 was approximately 320 billion dolars'"
      ],
      "execution_count": null,
      "outputs": []
    },
    {
      "cell_type": "code",
      "metadata": {
        "id": "Sw34ODrSMkuI"
      },
      "source": [
        "document = nlp(text)"
      ],
      "execution_count": null,
      "outputs": []
    },
    {
      "cell_type": "code",
      "metadata": {
        "colab": {
          "base_uri": "https://localhost:8080/"
        },
        "id": "vgTtmwvtMptB",
        "outputId": "4afa129b-6ced-4ce7-a15f-2c6c31554b6f"
      },
      "source": [
        "for entity in document.ents:\n",
        "  print(entity.text, entity.label_)"
      ],
      "execution_count": null,
      "outputs": [
        {
          "output_type": "stream",
          "name": "stdout",
          "text": [
            "IBM ORG\n",
            "US GPE\n",
            "San Francisco GPE\n",
            "2018 DATE\n",
            "approximately 320 billion dolars MONEY\n"
          ]
        }
      ]
    },
    {
      "cell_type": "code",
      "metadata": {
        "colab": {
          "base_uri": "https://localhost:8080/",
          "height": 52
        },
        "id": "a6j2C5eoNbEq",
        "outputId": "cced8270-8013-4315-8793-c276458d0173"
      },
      "source": [
        "from spacy import displacy\n",
        "displacy.render(document, style = 'ent', jupyter=True)"
      ],
      "execution_count": null,
      "outputs": [
        {
          "output_type": "display_data",
          "data": {
            "text/plain": [
              "<IPython.core.display.HTML object>"
            ],
            "text/html": [
              "<span class=\"tex2jax_ignore\"><div class=\"entities\" style=\"line-height: 2.5; direction: ltr\">\n",
              "<mark class=\"entity\" style=\"background: #7aecec; padding: 0.45em 0.6em; margin: 0 0.25em; line-height: 1; border-radius: 0.35em;\">\n",
              "    IBM\n",
              "    <span style=\"font-size: 0.8em; font-weight: bold; line-height: 1; border-radius: 0.35em; vertical-align: middle; margin-left: 0.5rem\">ORG</span>\n",
              "</mark>\n",
              " is a \n",
              "<mark class=\"entity\" style=\"background: #feca74; padding: 0.45em 0.6em; margin: 0 0.25em; line-height: 1; border-radius: 0.35em;\">\n",
              "    US\n",
              "    <span style=\"font-size: 0.8em; font-weight: bold; line-height: 1; border-radius: 0.35em; vertical-align: middle; margin-left: 0.5rem\">GPE</span>\n",
              "</mark>\n",
              " company on information technology. It is located in \n",
              "<mark class=\"entity\" style=\"background: #feca74; padding: 0.45em 0.6em; margin: 0 0.25em; line-height: 1; border-radius: 0.35em;\">\n",
              "    San Francisco\n",
              "    <span style=\"font-size: 0.8em; font-weight: bold; line-height: 1; border-radius: 0.35em; vertical-align: middle; margin-left: 0.5rem\">GPE</span>\n",
              "</mark>\n",
              " and revenue in \n",
              "<mark class=\"entity\" style=\"background: #bfe1d9; padding: 0.45em 0.6em; margin: 0 0.25em; line-height: 1; border-radius: 0.35em;\">\n",
              "    2018\n",
              "    <span style=\"font-size: 0.8em; font-weight: bold; line-height: 1; border-radius: 0.35em; vertical-align: middle; margin-left: 0.5rem\">DATE</span>\n",
              "</mark>\n",
              " was \n",
              "<mark class=\"entity\" style=\"background: #e4e7d2; padding: 0.45em 0.6em; margin: 0 0.25em; line-height: 1; border-radius: 0.35em;\">\n",
              "    approximately 320 billion dolars\n",
              "    <span style=\"font-size: 0.8em; font-weight: bold; line-height: 1; border-radius: 0.35em; vertical-align: middle; margin-left: 0.5rem\">MONEY</span>\n",
              "</mark>\n",
              "</div></span>"
            ]
          },
          "metadata": {}
        }
      ]
    },
    {
      "cell_type": "code",
      "metadata": {
        "id": "VxNOh8CWN0o4"
      },
      "source": [
        "text = 'Bill Gates was born in Seattle on 1955-10-28 and is the founder of Microsoft'"
      ],
      "execution_count": null,
      "outputs": []
    },
    {
      "cell_type": "code",
      "metadata": {
        "colab": {
          "base_uri": "https://localhost:8080/"
        },
        "id": "Uxa2YL-DN4jK",
        "outputId": "a5ff567e-4dcf-421e-c909-74253f13227e"
      },
      "source": [
        "document = nlp(text)\n",
        "for entity in document.ents:\n",
        "  print(entity.text, entity.label_)"
      ],
      "execution_count": null,
      "outputs": [
        {
          "output_type": "stream",
          "name": "stdout",
          "text": [
            "Bill Gates PERSON\n",
            "Seattle GPE\n",
            "1955-10-28 DATE\n",
            "Microsoft ORG\n"
          ]
        }
      ]
    },
    {
      "cell_type": "code",
      "metadata": {
        "colab": {
          "base_uri": "https://localhost:8080/",
          "height": 52
        },
        "id": "jLdxY0jKOJGR",
        "outputId": "75c8c371-8af5-4c95-febf-81f005267c52"
      },
      "source": [
        "displacy.render(document, style = 'ent', jupyter=True)"
      ],
      "execution_count": null,
      "outputs": [
        {
          "output_type": "display_data",
          "data": {
            "text/plain": [
              "<IPython.core.display.HTML object>"
            ],
            "text/html": [
              "<span class=\"tex2jax_ignore\"><div class=\"entities\" style=\"line-height: 2.5; direction: ltr\">\n",
              "<mark class=\"entity\" style=\"background: #aa9cfc; padding: 0.45em 0.6em; margin: 0 0.25em; line-height: 1; border-radius: 0.35em;\">\n",
              "    Bill Gates\n",
              "    <span style=\"font-size: 0.8em; font-weight: bold; line-height: 1; border-radius: 0.35em; vertical-align: middle; margin-left: 0.5rem\">PERSON</span>\n",
              "</mark>\n",
              " was born in \n",
              "<mark class=\"entity\" style=\"background: #feca74; padding: 0.45em 0.6em; margin: 0 0.25em; line-height: 1; border-radius: 0.35em;\">\n",
              "    Seattle\n",
              "    <span style=\"font-size: 0.8em; font-weight: bold; line-height: 1; border-radius: 0.35em; vertical-align: middle; margin-left: 0.5rem\">GPE</span>\n",
              "</mark>\n",
              " on \n",
              "<mark class=\"entity\" style=\"background: #bfe1d9; padding: 0.45em 0.6em; margin: 0 0.25em; line-height: 1; border-radius: 0.35em;\">\n",
              "    1955-10-28\n",
              "    <span style=\"font-size: 0.8em; font-weight: bold; line-height: 1; border-radius: 0.35em; vertical-align: middle; margin-left: 0.5rem\">DATE</span>\n",
              "</mark>\n",
              " and is the founder of \n",
              "<mark class=\"entity\" style=\"background: #7aecec; padding: 0.45em 0.6em; margin: 0 0.25em; line-height: 1; border-radius: 0.35em;\">\n",
              "    Microsoft\n",
              "    <span style=\"font-size: 0.8em; font-weight: bold; line-height: 1; border-radius: 0.35em; vertical-align: middle; margin-left: 0.5rem\">ORG</span>\n",
              "</mark>\n",
              "</div></span>"
            ]
          },
          "metadata": {}
        }
      ]
    },
    {
      "cell_type": "code",
      "metadata": {
        "colab": {
          "base_uri": "https://localhost:8080/"
        },
        "id": "mdkQpP6yOM4s",
        "outputId": "52b8380c-3ad3-490a-aadd-32af997c6e2b"
      },
      "source": [
        "for entity in document.ents:\n",
        "  if entity.label_ == 'PERSON':\n",
        "    print(entity.text)"
      ],
      "execution_count": null,
      "outputs": [
        {
          "output_type": "stream",
          "name": "stdout",
          "text": [
            "Bill Gates\n"
          ]
        }
      ]
    },
    {
      "cell_type": "markdown",
      "metadata": {
        "id": "Gt4Rg6ekdsmF"
      },
      "source": [
        "# Stopwords"
      ]
    },
    {
      "cell_type": "markdown",
      "metadata": {
        "id": "Stg3FUaoeW4I"
      },
      "source": [
        "- Words that appear very often and don't help to understand the context of the document"
      ]
    },
    {
      "cell_type": "code",
      "metadata": {
        "colab": {
          "base_uri": "https://localhost:8080/"
        },
        "id": "BXQe96LpazZk",
        "outputId": "31fbb758-f2a1-4f2d-916b-2ce400beb414"
      },
      "source": [
        "# it\n",
        "from spacy.lang.fr.stop_words import STOP_WORDS\n",
        "print(STOP_WORDS)"
      ],
      "execution_count": null,
      "outputs": [
        {
          "output_type": "stream",
          "name": "stdout",
          "text": [
            "{'devra', 'proche', \"t'\", 'troisième', 'sera', 'concernant', 'autrui', 'nombreux', 'va', 'onzième', 'hormis', 'quelconque', 'quel', \"s'\", 'ceci', 'suit', 'ai', 'après', 'quatrièmement', 'suis', 'moi', 'â', 'dit', 'tel', 'mienne', 'maint', 'cinquantaine', 'celles-ci', 'il', 'celle-ci', 'cinq', 'anterieur', 'hi', 'huit', 'revoila', 'uns', 'seules', 'spécifiques', 'reste', 'tend', 'elle-meme', 'outre', 'car', 'différents', 'quels', 'as', 'revoici', 'onze', 'différentes', 'parler', 'dejà', 'quoi', 'à', 'par', 'te', 'avais', 'ceux-là', 'lui-même', 'sixième', 'procedant', 'quatrième', 'seront', 'differentes', 'ait', 'lorsque', 'vont', 'suivre', 'aupres', 'jusqu', 'tenant', 'ont', 'dixième', 'hem', 'douzième', 'au', 'effet', 'moi-même', 'sienne', 'semblable', 'nous', 'elle', \"c'\", 'a', \"j'\", 'ouverts', 'aurait', 'certains', 'seize', 'hou', 'deux', 'quoique', 'soi-même', 'sous', 'lors', 'chacune', 'cinquante', 'ce', 'antérieures', 'allaient', 'suivants', 'vé', 'certaines', 'cet', 'lesquels', 'huitième', 'té', 'malgré', 'ayant', 'vas', 'siens', 'duquel', 'ces', 'donc', 'qui', 'premièrement', 'peuvent', 'aura', 'auraient', 'abord', 'vos', 'etc', 'personne', 'là', 'ma', 'laquelle', 'parce', 'aux', 'bas', 'plus', 'leurs', 'quelle', 'hui', 'spécifique', 'hors', 'durant', 'differente', 'suffit', 'lui-meme', 'excepté', 'celle', 'seraient', 'desquels', 'du', 'mais', 'une', 'chez', 'dite', 'pense', 'parlent', 'soi-meme', 'devers', 'celui', 'entre', 'très', 'désormais', 'toute', 'moi-meme', 'celui-là', 'nôtres', 'tellement', 'peu', 'tous', 'faisaient', 'suffisant', 'o', 'étant', 'divers', 'toi-meme', 'ouvert', 'auront', 'quelques', 'celles-la', 'comme', 'surtout', 'pu', 'déja', 'deuxième', 'chaque', 'elles-mêmes', 'juste', 'sait', 'suivant', 'ah', 'etaient', 'suivantes', 'mon', \"n'\", 'environ', 'néanmoins', 'les', 'quarante', 'sauf', 'parfois', 'specifique', 'où', 'également', 'restant', 'soixante', 'aussi', 'devant', 'directement', 'être', 'cependant', 'desormais', 'celles-là', 'puis', 'voila', 'elles', 'ouste', 'autrement', 'peut', 'tiennes', 'possibles', 'facon', 'sept', 'ne', 'cette', 'avaient', 'dehors', 'dont', 'anterieures', 'mes', 'i', 'la', 'pouvait', 'sur', 'anterieure', \"qu'\", 'allons', 'retour', 'fais', 'different', 'certes', 'dix-neuf', 'six', 'trois', 'précisement', 'qu’', 'ainsi', 'ceux-ci', 'soi', 'lès', 'da', 'différent', 'es', 'souvent', 'ni', 'certaine', 'ouverte', 'est', 'telle', 'cela', 'treize', 'moindres', 'etais', 'était', 'premier', 'nombreuses', 'combien', 'ès', 'etant', 'ton', 'dessus', 'pourrait', 'tant', 'or', 'semblent', 'des', 'diverses', 'seuls', 'un', 'me', 'étais', 'fait', 'etre', 'sinon', 't’', 'parmi', 'ça', 'jusque', 'ouias', 'ô', 'maintenant', 'celui-la', 'dans', 'quelles', 'plusieurs', 'ha', 'votre', 'dire', 'toujours', 'cinquantième', 'toi', 'antérieure', 'seule', 'quant-à-soi', 'partant', 'même', 'afin', 'feront', 'étaient', 'c’', 'telles', 'nous-mêmes', 'memes', 'egalement', 'leur', 'nul', 'n’', 'rend', 'dits', 'dix-huit', \"quelqu'un\", 'neanmoins', 'quand', 'importe', 'd’', 'autre', 'gens', 'déjà', 'eux-mêmes', 'quatre-vingt', 'prealable', 'assez', 'miennes', 'peux', 'lui', 'ci', 'celui-ci', 'longtemps', 'soit', 'pres', 'l’', 'trente', 'bat', 'stop', 'tien', 'laisser', 'première', 'alors', 'precisement', 'malgre', 'dès', 'quatorze', 'pendant', 'sien', 'derriere', 'exactement', 'touchant', 'elle-même', 'seul', 'lesquelles', 'suffisante', 'apres', 's’', 'cent', 'ils', 'avec', 'semblaient', 'voilà', 'avoir', 'pourquoi', 'tienne', 'si', 'possible', 'toi-même', 'deja', 'encore', 'attendu', 'revoilà', 'vous-mêmes', 'eu', 'on', 'toutes', 'ou', 'cinquième', 'restent', 'chacun', 'autres', 'ceux', 'et', 'doit', 'comment', 'tout', 'vais', 'quatre', 'semble', 'nôtre', 'aie', 'nos', 'pourrais', 'lequel', 'differents', 'relativement', 'specifiques', 'différente', \"m'\", 'rendre', 'sa', 'via', 'vu', 'puisque', 'relative', 'vingt', 'envers', 'meme', 'dessous', 'desquelles', \"d'\", 'se', 'nouveau', 'neuvième', 'derrière', 'deuxièmement', 'pour', 'certain', 'directe', \"l'\", 'serait', 'que', 'na', 'dix', 'siennes', 'vôtre', 'près', 'quiconque', 'sent', 'auquel', 'tres', 'dix-sept', 'avons', 'elles-memes', 'auxquelles', 'façon', 'j’', 'tenir', 'vous', 'le', 'eh', 'hep', 'suivante', 'debout', 'moins', 'notamment', 'avait', 'font', 'miens', 'etait', 'notre', 'hé', 'sont', 'troisièmement', 'douze', 'tiens', 'en', 'delà', 'quant', 'vers', 'enfin', 'depuis', 'eux', 'tels', 'dedans', 'quinze', 'diverse', 'seulement', 'antérieur', 'celle-la', 'de', 'merci', 'préalable', 'm’', 'tu', 'faisant', 'septième', 'houp', 'mêmes', 'ses', 'doivent', 'unes', 'selon', 'compris', 'celles', 'ho', 'plutôt', 'son', 'avant', 'y', 'votres', 'mien', 'quelque', 'tente', 'ta', 'celle-là', 'permet', 'mille', 'parle', 'je', 'tes', 'basee', 'sans', 'plutot', 'auxquels', 'pas', 'voici', 'hue', 'vôtres'}\n"
          ]
        }
      ]
    },
    {
      "cell_type": "code",
      "metadata": {
        "colab": {
          "base_uri": "https://localhost:8080/"
        },
        "id": "Yq13vWH4bhTh",
        "outputId": "e2bdaa18-8eba-4c24-8bd9-f4a023dfd6fd"
      },
      "source": [
        "from spacy.lang.pt.stop_words import STOP_WORDS\n",
        "print(STOP_WORDS)"
      ],
      "execution_count": null,
      "outputs": [
        {
          "output_type": "stream",
          "name": "stdout",
          "text": [
            "{'fora', 'momento', 'tais', 'ligado', 'máximo', 'ponto', 'ele', 'meio', 'nós', 'próxima', 'só', 'meses', 'zero', 'podia', 'vinda', 'vêm', 'partir', 'caminho', 'tudo', 'pela', 'nossas', 'for', 'coisa', 'sim', 'põe', 'mas', 'isto', 'uns', 'pelo', 'aqueles', 'pôde', 'sem', 'querem', 'aquilo', 'teus', 'direita', 'estiveste', 'cada', 'as', 'através', 'antes', 'onze', 'quinto', 'à', 'te', 'todos', 'vindo', 'deve', 'tem', 'numa', 'posição', 'nossa', 'cento', 'favor', 'tivestes', 'põem', 'contudo', 'outras', 'foi', 'suas', 'é', 'vem', 'vossas', 'pouco', 'duas', 'nova', 'tive', 'talvez', 'dois', 'outros', 'a', 'ao', 'nas', 'quanto', 'fazia', 'fazemos', 'esses', 'usar', 'exemplo', 'outra', 'baixo', 'área', 'ser', 'nível', 'tentar', 'fará', 'elas', 'certeza', 'breve', 'debaixo', 'até', 'povo', 'menos', 'estás', 'vez', 'catorze', 'deste', 'e', 'tanto', 'contra', 'esse', 'bem', 'forma', 'ora', 'nesta', 'local', 'minha', 'vos', 'conhecida', 'seus', 'dentro', 'usa', 'vossa', 'foste', 'obrigada', 'és', 'cedo', 'fez', 'oito', 'fazem', 'têm', 'um', 'estas', 'como', 'sobre', 'tuas', 'logo', 'mais', 'teve', 'tarde', 'vens', 'ver', 'nessa', 'pois', 'sete', 'entre', 'questão', 'vosso', 'faço', 'algumas', 'tentei', 'também', 'o', 'você', 'número', 'grupo', 'umas', 'quieta', 'estará', 'sexto', 'fim', 'nada', 'pode', 'sou', 'tanta', 'tiveram', 'parte', 'tiveste', 'obrigado', 'quê', 'valor', 'assim', 'fazer', 'teu', 'pegar', 'toda', 'cujo', 'saber', 'pontos', 'estes', 'comprida', 'tipo', 'muito', 'grandes', 'maior', 'porém', 'vários', 'sois', 'por', 'quem', 'primeira', 'dezassete', 'iniciar', 'ter', 'eles', 'dar', 'mil', 'da', 'disso', 'dizem', 'mesmo', 'aquela', 'novas', 'portanto', 'meus', 'esteve', 'quero', 'vossos', 'está', 'sexta', 'tal', 'novos', 'terceiro', 'os', 'daquele', 'apoia', 'dessa', 'naquela', 'são', 'depois', 'muitos', 'des', 'cinco', 'apenas', 'dão', 'onde', 'em', 'vão', 'me', 'veja', 'nesse', 'alguns', 'dezasseis', 'aqui', 'aí', 'aquelas', 'oitava', 'já', 'possivelmente', 'após', 'sétima', 'não', 'doze', 'ambas', 'tivemos', 'meu', 'eventual', 'minhas', 'então', 'apontar', 'algo', 'corrente', 'estado', 'tua', 'pouca', 'quarto', 'custa', 'certamente', 'agora', 'treze', 'bom', 'irá', 'qual', 'aquele', 'para', 'vai', 'quer', 'foram', 'poder', 'atrás', 'inicio', 'segunda', 'estava', 'três', 'fomos', 'neste', 'aos', 'próprio', 'nunca', 'estivestes', 'sempre', 'falta', 'diante', 'dos', 'vezes', 'dezoito', 'vocês', 'eu', 'lhe', 'às', 'devem', 'ou', 'era', 'tentaram', 'ambos', 'seria', 'ademais', 'conselho', 'sei', 'vais', 'nem', 'estou', 'ir', 'nos', 'somos', 'estiveram', 'inclusive', 'com', 'uma', 'naquele', 'novo', 'diz', 'puderam', 'cuja', 'dá', 'do', 'boa', 'isso', 'tens', 'deverá', 'enquanto', 'estão', 'embora', 'no', 'comprido', 'nossos', 'se', 'fazes', 'nuns', 'tendes', 'esta', 'todo', 'porque', 'lado', 'nenhuma', 'que', 'podem', 'primeiro', 'perto', 'apoio', 'na', 'cá', 'tão', 'mês', 'fazeis', 'estar', 'estivemos', 'lá', 'seu', 'bastante', 'pelos', 'oitavo', 'segundo', 'vós', 'todas', 'pelas', 'mal', 'porquanto', 'posso', 'quarta', 'essa', 'menor', 'faz', 'sob', 'lugar', 'ali', 'quando', 'demais', 'dez', 'poderá', 'daquela', 'relação', 'somente', 'sétimo', 'adeus', 'num', 'vinte', 'porquê', 'temos', 'qualquer', 'nove', 'quatro', 'quinze', 'quinta', 'cima', 'seis', 'de', 'maioria', 'estive', 'tu', 'nosso', 'longe', 'essas', 'desde', 'sua', 'possível', 'acerca', 'sistema', 'maiorias', 'das', 'desse', 'este', 'desta', 'parece', 'dizer', 'dezanove', 'fui', 'geral', 'próximo', 'ela', 'ontem', 'tente', 'ainda', 'terceira', 'final', 'quais', 'além', 'tenho', 'grande', 'último', 'tempo', 'sabe', 'quieto', 'fostes', 'números', 'conhecido'}\n"
          ]
        }
      ]
    },
    {
      "cell_type": "code",
      "metadata": {
        "colab": {
          "base_uri": "https://localhost:8080/"
        },
        "id": "ybJ7PZsQboQo",
        "outputId": "e4d69eb4-2fb3-4a56-9c56-961b32e01d91"
      },
      "source": [
        "from spacy.lang.en.stop_words import STOP_WORDS\n",
        "print(STOP_WORDS)"
      ],
      "execution_count": null,
      "outputs": [
        {
          "output_type": "stream",
          "name": "stdout",
          "text": [
            "{'eight', 'upon', 'every', '’m', 'quite', 'eleven', 'meanwhile', 'their', 'which', 'everything', 'nevertheless', 'call', 'n‘t', 'for', 'several', 'back', 'behind', 'wherever', 'as', 'but', 'per', '’ve', 'themselves', 'put', '‘m', 'along', 'namely', 'whereupon', 'just', 'why', 'used', 'between', 'mostly', 'until', 'bottom', 'regarding', 'after', 'each', 'will', 'well', 'besides', 'beside', 'this', 'you', 'us', 'done', 'another', 'own', 'become', 'afterwards', 'three', 'a', 'however', 'when', '’s', '‘ll', 'throughout', 'top', 'still', 'beyond', 'its', 'latterly', 'latter', 'third', 'such', 'the', 'mine', 'again', 'by', 'thereupon', 'others', 'see', 'ten', 'neither', 'whom', 'it', 'too', 'say', 'herein', 'who', 'both', 'hence', 'did', 'how', 'next', 'n’t', 'perhaps', 'seems', 'very', 'all', 'whenever', '‘ve', 'get', 'thus', 'fifty', 'less', 'moreover', 'therefore', 'everyone', 'seeming', 'using', 'name', 'off', 'thereafter', 'becoming', 'give', 'becomes', 'there', 'otherwise', 'anywhere', 'might', 'whence', 'about', '’re', 'somewhere', 'noone', '’d', 'could', 'none', 'though', \"n't\", 'most', 'move', \"'s\", 'nothing', 'are', 'twelve', 'became', 'further', 'somehow', 'whereby', 'here', 'with', \"'d\", 'formerly', 'else', 'either', 'together', 'full', 'him', 'during', 'elsewhere', 'to', 'i', 'being', 'already', 'nowhere', 'cannot', 'any', 'while', 'his', '‘re', 'six', 'was', 'thereby', 'we', 'now', 'of', 'many', 'last', 'anyhow', 'made', 'anyone', 'ever', 'amongst', 'because', 'and', 'always', 'first', 'her', 'across', 'herself', 'serious', \"'ve\", 'four', 'these', 'amount', 'or', 'whatever', 'had', 'something', 'around', 'is', 'me', 'if', 'some', 'please', 'were', 'against', 'out', 'yours', 'two', 'them', 'hereby', 'toward', 'nobody', 'whether', 'above', 'not', 'should', 'does', 'than', 'seem', 'yourselves', 'yourself', 'former', 'whole', 'one', 'myself', 'whither', 'he', 'in', 'without', 'whereafter', \"'m\", 'hereupon', 'may', 'anyway', 'an', 'part', 'make', 'enough', 'beforehand', 'whereas', 'my', 'am', 'yet', 'really', 'that', '’ll', 'alone', 'due', 'take', 'once', '‘s', 'except', 'hers', 'nor', 'much', 'itself', 'few', 'ours', 'would', 'keep', 'ourselves', 'on', 'within', 'other', 'thru', 'ca', 'hereafter', 'never', 'thence', 'into', 'your', 'fifteen', 'everywhere', \"'re\", 'do', 'sometimes', 're', 'hundred', 'towards', 'via', 'then', 'sixty', 'no', 'has', 'seemed', 'also', 'among', 'almost', 'unless', 'been', 'although', 'side', 'since', 'whose', 'indeed', 'below', 'down', 'even', 'himself', 'she', 'they', \"'ll\", 'can', 'have', 'up', 'whoever', 'empty', 'therein', '‘d', 'nine', 'rather', 'someone', 'our', 'show', 'more', 'through', 'under', 'forty', 'go', 'various', 'before', 'those', 'five', 'sometime', 'doing', 'must', 'be', 'at', 'where', 'same', 'often', 'twenty', 'over', 'least', 'only', 'onto', 'anything', 'so', 'from', 'what', 'wherein', 'front'}\n"
          ]
        }
      ]
    },
    {
      "cell_type": "code",
      "metadata": {
        "colab": {
          "base_uri": "https://localhost:8080/"
        },
        "id": "P9rT-WYEcOR1",
        "outputId": "830645bb-1fa1-4b30-c1be-e425d0642c0e"
      },
      "source": [
        "'it' in STOP_WORDS"
      ],
      "execution_count": null,
      "outputs": [
        {
          "output_type": "execute_result",
          "data": {
            "text/plain": [
              "True"
            ]
          },
          "metadata": {},
          "execution_count": 31
        }
      ]
    },
    {
      "cell_type": "code",
      "metadata": {
        "colab": {
          "base_uri": "https://localhost:8080/"
        },
        "id": "o3JizS7ucXOg",
        "outputId": "378cf3fc-fc92-493d-a39b-0619e509435e"
      },
      "source": [
        "len(STOP_WORDS)"
      ],
      "execution_count": null,
      "outputs": [
        {
          "output_type": "execute_result",
          "data": {
            "text/plain": [
              "326"
            ]
          },
          "metadata": {},
          "execution_count": 32
        }
      ]
    },
    {
      "cell_type": "code",
      "metadata": {
        "colab": {
          "base_uri": "https://localhost:8080/"
        },
        "id": "qYuBdsC0ceDY",
        "outputId": "ebd99964-6841-420e-d4d8-13b5e2690c10"
      },
      "source": [
        "nlp.vocab['it'].is_stop"
      ],
      "execution_count": null,
      "outputs": [
        {
          "output_type": "execute_result",
          "data": {
            "text/plain": [
              "True"
            ]
          },
          "metadata": {},
          "execution_count": 33
        }
      ]
    },
    {
      "cell_type": "code",
      "metadata": {
        "colab": {
          "base_uri": "https://localhost:8080/"
        },
        "id": "C0ABM-TocpNb",
        "outputId": "479e3315-ee30-4de2-a08b-405d0a719a28"
      },
      "source": [
        "nlp.vocab['walk'].is_stop"
      ],
      "execution_count": null,
      "outputs": [
        {
          "output_type": "execute_result",
          "data": {
            "text/plain": [
              "False"
            ]
          },
          "metadata": {},
          "execution_count": 34
        }
      ]
    },
    {
      "cell_type": "code",
      "metadata": {
        "id": "yexaaSCQct_X"
      },
      "source": [
        "document = nlp('I am learning natural language processing. The course is in London')"
      ],
      "execution_count": null,
      "outputs": []
    },
    {
      "cell_type": "code",
      "metadata": {
        "colab": {
          "base_uri": "https://localhost:8080/"
        },
        "id": "9bgjx9aVc27u",
        "outputId": "bb9f5c1b-880b-4340-9f08-730c95df23e6"
      },
      "source": [
        "for token in document:\n",
        "  if nlp.vocab[token.text].is_stop:\n",
        "    print(token.text)"
      ],
      "execution_count": null,
      "outputs": [
        {
          "output_type": "stream",
          "name": "stdout",
          "text": [
            "I\n",
            "am\n",
            "The\n",
            "is\n",
            "in\n"
          ]
        }
      ]
    },
    {
      "cell_type": "code",
      "metadata": {
        "colab": {
          "base_uri": "https://localhost:8080/"
        },
        "id": "r-quiPPzdHGG",
        "outputId": "4ba4c8a3-5506-4feb-cd48-c42cca3e4f8d"
      },
      "source": [
        "for token in document:\n",
        "  if not nlp.vocab[token.text].is_stop:\n",
        "    print(token.text)"
      ],
      "execution_count": null,
      "outputs": [
        {
          "output_type": "stream",
          "name": "stdout",
          "text": [
            "learning\n",
            "natural\n",
            "language\n",
            "processing\n",
            ".\n",
            "course\n",
            "London\n"
          ]
        }
      ]
    },
    {
      "cell_type": "markdown",
      "metadata": {
        "id": "Xi7gpbH1fwvM"
      },
      "source": [
        "# Dependency parsing\n",
        "\n",
        "- Parent-child relation"
      ]
    },
    {
      "cell_type": "markdown",
      "metadata": {
        "id": "BVzGp1zLohyU"
      },
      "source": [
        "## Example 1"
      ]
    },
    {
      "cell_type": "code",
      "metadata": {
        "id": "e95Zpk5feJJa"
      },
      "source": [
        "document = nlp('book a ticket from London to Paris')"
      ],
      "execution_count": null,
      "outputs": []
    },
    {
      "cell_type": "code",
      "metadata": {
        "colab": {
          "base_uri": "https://localhost:8080/"
        },
        "id": "8JB8R0g8efwr",
        "outputId": "22cfba60-9307-48de-a34a-416b1650ade9"
      },
      "source": [
        "origin = document[4]\n",
        "destiny = document[6]\n",
        "print(origin, destiny)"
      ],
      "execution_count": null,
      "outputs": [
        {
          "output_type": "stream",
          "name": "stdout",
          "text": [
            "London Paris\n"
          ]
        }
      ]
    },
    {
      "cell_type": "code",
      "metadata": {
        "colab": {
          "base_uri": "https://localhost:8080/"
        },
        "id": "3tKyQa_XfE7S",
        "outputId": "09f6b3eb-e814-4681-d013-0c5dc70a2566"
      },
      "source": [
        "list(origin.ancestors)"
      ],
      "execution_count": null,
      "outputs": [
        {
          "output_type": "execute_result",
          "data": {
            "text/plain": [
              "[from, ticket, book]"
            ]
          },
          "metadata": {},
          "execution_count": 40
        }
      ]
    },
    {
      "cell_type": "code",
      "metadata": {
        "colab": {
          "base_uri": "https://localhost:8080/"
        },
        "id": "Iwp-5bBifUO-",
        "outputId": "804d5419-9d26-4f00-e541-863bb955d6e3"
      },
      "source": [
        "list(destiny.ancestors)"
      ],
      "execution_count": null,
      "outputs": [
        {
          "output_type": "execute_result",
          "data": {
            "text/plain": [
              "[to, ticket, book]"
            ]
          },
          "metadata": {},
          "execution_count": 41
        }
      ]
    },
    {
      "cell_type": "code",
      "metadata": {
        "colab": {
          "base_uri": "https://localhost:8080/"
        },
        "id": "XMTuLuEefy2G",
        "outputId": "6a430bbf-4d94-411b-e918-126131dec76f"
      },
      "source": [
        "document[0].is_ancestor(document[2])"
      ],
      "execution_count": null,
      "outputs": [
        {
          "output_type": "execute_result",
          "data": {
            "text/plain": [
              "True"
            ]
          },
          "metadata": {},
          "execution_count": 42
        }
      ]
    },
    {
      "cell_type": "markdown",
      "metadata": {
        "id": "i5j9bqKvokEj"
      },
      "source": [
        "## Example 2"
      ]
    },
    {
      "cell_type": "code",
      "metadata": {
        "id": "5hdgRY3LhKeI"
      },
      "source": [
        "document = nlp('Book a table for the restaurant and a taxi to the hotel')"
      ],
      "execution_count": null,
      "outputs": []
    },
    {
      "cell_type": "code",
      "metadata": {
        "colab": {
          "base_uri": "https://localhost:8080/"
        },
        "id": "G9QBqL6HhglH",
        "outputId": "9fdb69bb-f2a9-4c34-a769-3c4c64d7f7e1"
      },
      "source": [
        "tasks = document[2], document[8]\n",
        "locations = document[5], document[11]\n",
        "print(tasks, locations)"
      ],
      "execution_count": null,
      "outputs": [
        {
          "output_type": "stream",
          "name": "stdout",
          "text": [
            "(table, taxi) (restaurant, hotel)\n"
          ]
        }
      ]
    },
    {
      "cell_type": "code",
      "metadata": {
        "colab": {
          "base_uri": "https://localhost:8080/"
        },
        "id": "MM8jh7dTiCNm",
        "outputId": "57d59e3f-ce7a-42e8-88cc-47f9f2193074"
      },
      "source": [
        "for local in locations:\n",
        "  print('-----', local)\n",
        "  for obj in local.ancestors:\n",
        "    print(obj)"
      ],
      "execution_count": null,
      "outputs": [
        {
          "output_type": "stream",
          "name": "stdout",
          "text": [
            "----- restaurant\n",
            "for\n",
            "table\n",
            "Book\n",
            "----- hotel\n",
            "to\n",
            "taxi\n",
            "restaurant\n",
            "for\n",
            "table\n",
            "Book\n"
          ]
        }
      ]
    },
    {
      "cell_type": "code",
      "metadata": {
        "colab": {
          "base_uri": "https://localhost:8080/"
        },
        "id": "RWcjVrRJio5t",
        "outputId": "18208426-b823-4d3e-f386-98d4cc78fb7a"
      },
      "source": [
        "for local in locations:\n",
        "  for obj in local.ancestors:\n",
        "    if obj in tasks:\n",
        "      print('Reservation of a {} to the {}'.format(obj, local))\n",
        "      break"
      ],
      "execution_count": null,
      "outputs": [
        {
          "output_type": "stream",
          "name": "stdout",
          "text": [
            "Reservation of a table to the restaurant\n",
            "Reservation of a taxi to the hotel\n"
          ]
        }
      ]
    },
    {
      "cell_type": "code",
      "metadata": {
        "colab": {
          "base_uri": "https://localhost:8080/"
        },
        "id": "Kp_tThXLjdy_",
        "outputId": "c3e52d5d-1487-4b5a-dd13-6cef9f2aab22"
      },
      "source": [
        "list(document[5].children)"
      ],
      "execution_count": null,
      "outputs": [
        {
          "output_type": "execute_result",
          "data": {
            "text/plain": [
              "[the, and, taxi]"
            ]
          },
          "metadata": {},
          "execution_count": 47
        }
      ]
    },
    {
      "cell_type": "markdown",
      "metadata": {
        "id": "NRXWYfXbol9-"
      },
      "source": [
        "## Example 3"
      ]
    },
    {
      "cell_type": "code",
      "metadata": {
        "id": "oXN7x26YmJ2o"
      },
      "source": [
        "from spacy import displacy"
      ],
      "execution_count": null,
      "outputs": []
    },
    {
      "cell_type": "code",
      "metadata": {
        "id": "Dq1qRfnnmRC4"
      },
      "source": [
        "document = nlp('Book a table for the restaurant and a taxi to the hotel')"
      ],
      "execution_count": null,
      "outputs": []
    },
    {
      "cell_type": "code",
      "metadata": {
        "colab": {
          "base_uri": "https://localhost:8080/",
          "height": 248
        },
        "id": "epl4PdIZmYZP",
        "outputId": "a9b16d3e-5f27-4f79-ae8c-ea43305de83a"
      },
      "source": [
        "displacy.render(document, style='dep', jupyter=True, options={'distance': 90})"
      ],
      "execution_count": null,
      "outputs": [
        {
          "output_type": "display_data",
          "data": {
            "text/plain": [
              "<IPython.core.display.HTML object>"
            ],
            "text/html": [
              "<span class=\"tex2jax_ignore\"><svg xmlns=\"http://www.w3.org/2000/svg\" xmlns:xlink=\"http://www.w3.org/1999/xlink\" xml:lang=\"en\" id=\"ccceb5f470804bc090f49d6f2561d063-0\" class=\"displacy\" width=\"1130\" height=\"227.0\" direction=\"ltr\" style=\"max-width: none; height: 227.0px; color: #000000; background: #ffffff; font-family: Arial; direction: ltr\">\n",
              "<text class=\"displacy-token\" fill=\"currentColor\" text-anchor=\"middle\" y=\"137.0\">\n",
              "    <tspan class=\"displacy-word\" fill=\"currentColor\" x=\"50\">Book</tspan>\n",
              "    <tspan class=\"displacy-tag\" dy=\"2em\" fill=\"currentColor\" x=\"50\">PROPN</tspan>\n",
              "</text>\n",
              "\n",
              "<text class=\"displacy-token\" fill=\"currentColor\" text-anchor=\"middle\" y=\"137.0\">\n",
              "    <tspan class=\"displacy-word\" fill=\"currentColor\" x=\"140\">a</tspan>\n",
              "    <tspan class=\"displacy-tag\" dy=\"2em\" fill=\"currentColor\" x=\"140\">DET</tspan>\n",
              "</text>\n",
              "\n",
              "<text class=\"displacy-token\" fill=\"currentColor\" text-anchor=\"middle\" y=\"137.0\">\n",
              "    <tspan class=\"displacy-word\" fill=\"currentColor\" x=\"230\">table</tspan>\n",
              "    <tspan class=\"displacy-tag\" dy=\"2em\" fill=\"currentColor\" x=\"230\">NOUN</tspan>\n",
              "</text>\n",
              "\n",
              "<text class=\"displacy-token\" fill=\"currentColor\" text-anchor=\"middle\" y=\"137.0\">\n",
              "    <tspan class=\"displacy-word\" fill=\"currentColor\" x=\"320\">for</tspan>\n",
              "    <tspan class=\"displacy-tag\" dy=\"2em\" fill=\"currentColor\" x=\"320\">ADP</tspan>\n",
              "</text>\n",
              "\n",
              "<text class=\"displacy-token\" fill=\"currentColor\" text-anchor=\"middle\" y=\"137.0\">\n",
              "    <tspan class=\"displacy-word\" fill=\"currentColor\" x=\"410\">the</tspan>\n",
              "    <tspan class=\"displacy-tag\" dy=\"2em\" fill=\"currentColor\" x=\"410\">DET</tspan>\n",
              "</text>\n",
              "\n",
              "<text class=\"displacy-token\" fill=\"currentColor\" text-anchor=\"middle\" y=\"137.0\">\n",
              "    <tspan class=\"displacy-word\" fill=\"currentColor\" x=\"500\">restaurant</tspan>\n",
              "    <tspan class=\"displacy-tag\" dy=\"2em\" fill=\"currentColor\" x=\"500\">NOUN</tspan>\n",
              "</text>\n",
              "\n",
              "<text class=\"displacy-token\" fill=\"currentColor\" text-anchor=\"middle\" y=\"137.0\">\n",
              "    <tspan class=\"displacy-word\" fill=\"currentColor\" x=\"590\">and</tspan>\n",
              "    <tspan class=\"displacy-tag\" dy=\"2em\" fill=\"currentColor\" x=\"590\">CCONJ</tspan>\n",
              "</text>\n",
              "\n",
              "<text class=\"displacy-token\" fill=\"currentColor\" text-anchor=\"middle\" y=\"137.0\">\n",
              "    <tspan class=\"displacy-word\" fill=\"currentColor\" x=\"680\">a</tspan>\n",
              "    <tspan class=\"displacy-tag\" dy=\"2em\" fill=\"currentColor\" x=\"680\">DET</tspan>\n",
              "</text>\n",
              "\n",
              "<text class=\"displacy-token\" fill=\"currentColor\" text-anchor=\"middle\" y=\"137.0\">\n",
              "    <tspan class=\"displacy-word\" fill=\"currentColor\" x=\"770\">taxi</tspan>\n",
              "    <tspan class=\"displacy-tag\" dy=\"2em\" fill=\"currentColor\" x=\"770\">NOUN</tspan>\n",
              "</text>\n",
              "\n",
              "<text class=\"displacy-token\" fill=\"currentColor\" text-anchor=\"middle\" y=\"137.0\">\n",
              "    <tspan class=\"displacy-word\" fill=\"currentColor\" x=\"860\">to</tspan>\n",
              "    <tspan class=\"displacy-tag\" dy=\"2em\" fill=\"currentColor\" x=\"860\">ADP</tspan>\n",
              "</text>\n",
              "\n",
              "<text class=\"displacy-token\" fill=\"currentColor\" text-anchor=\"middle\" y=\"137.0\">\n",
              "    <tspan class=\"displacy-word\" fill=\"currentColor\" x=\"950\">the</tspan>\n",
              "    <tspan class=\"displacy-tag\" dy=\"2em\" fill=\"currentColor\" x=\"950\">DET</tspan>\n",
              "</text>\n",
              "\n",
              "<text class=\"displacy-token\" fill=\"currentColor\" text-anchor=\"middle\" y=\"137.0\">\n",
              "    <tspan class=\"displacy-word\" fill=\"currentColor\" x=\"1040\">hotel</tspan>\n",
              "    <tspan class=\"displacy-tag\" dy=\"2em\" fill=\"currentColor\" x=\"1040\">NOUN</tspan>\n",
              "</text>\n",
              "\n",
              "<g class=\"displacy-arrow\">\n",
              "    <path class=\"displacy-arc\" id=\"arrow-ccceb5f470804bc090f49d6f2561d063-0-0\" stroke-width=\"2px\" d=\"M160,92.0 C160,47.0 225.0,47.0 225.0,92.0\" fill=\"none\" stroke=\"currentColor\"/>\n",
              "    <text dy=\"1.25em\" style=\"font-size: 0.8em; letter-spacing: 1px\">\n",
              "        <textPath xlink:href=\"#arrow-ccceb5f470804bc090f49d6f2561d063-0-0\" class=\"displacy-label\" startOffset=\"50%\" side=\"left\" fill=\"currentColor\" text-anchor=\"middle\">det</textPath>\n",
              "    </text>\n",
              "    <path class=\"displacy-arrowhead\" d=\"M160,94.0 L152,82.0 168,82.0\" fill=\"currentColor\"/>\n",
              "</g>\n",
              "\n",
              "<g class=\"displacy-arrow\">\n",
              "    <path class=\"displacy-arc\" id=\"arrow-ccceb5f470804bc090f49d6f2561d063-0-1\" stroke-width=\"2px\" d=\"M70,92.0 C70,2.0 230.0,2.0 230.0,92.0\" fill=\"none\" stroke=\"currentColor\"/>\n",
              "    <text dy=\"1.25em\" style=\"font-size: 0.8em; letter-spacing: 1px\">\n",
              "        <textPath xlink:href=\"#arrow-ccceb5f470804bc090f49d6f2561d063-0-1\" class=\"displacy-label\" startOffset=\"50%\" side=\"left\" fill=\"currentColor\" text-anchor=\"middle\">appos</textPath>\n",
              "    </text>\n",
              "    <path class=\"displacy-arrowhead\" d=\"M230.0,94.0 L238.0,82.0 222.0,82.0\" fill=\"currentColor\"/>\n",
              "</g>\n",
              "\n",
              "<g class=\"displacy-arrow\">\n",
              "    <path class=\"displacy-arc\" id=\"arrow-ccceb5f470804bc090f49d6f2561d063-0-2\" stroke-width=\"2px\" d=\"M250,92.0 C250,47.0 315.0,47.0 315.0,92.0\" fill=\"none\" stroke=\"currentColor\"/>\n",
              "    <text dy=\"1.25em\" style=\"font-size: 0.8em; letter-spacing: 1px\">\n",
              "        <textPath xlink:href=\"#arrow-ccceb5f470804bc090f49d6f2561d063-0-2\" class=\"displacy-label\" startOffset=\"50%\" side=\"left\" fill=\"currentColor\" text-anchor=\"middle\">prep</textPath>\n",
              "    </text>\n",
              "    <path class=\"displacy-arrowhead\" d=\"M315.0,94.0 L323.0,82.0 307.0,82.0\" fill=\"currentColor\"/>\n",
              "</g>\n",
              "\n",
              "<g class=\"displacy-arrow\">\n",
              "    <path class=\"displacy-arc\" id=\"arrow-ccceb5f470804bc090f49d6f2561d063-0-3\" stroke-width=\"2px\" d=\"M430,92.0 C430,47.0 495.0,47.0 495.0,92.0\" fill=\"none\" stroke=\"currentColor\"/>\n",
              "    <text dy=\"1.25em\" style=\"font-size: 0.8em; letter-spacing: 1px\">\n",
              "        <textPath xlink:href=\"#arrow-ccceb5f470804bc090f49d6f2561d063-0-3\" class=\"displacy-label\" startOffset=\"50%\" side=\"left\" fill=\"currentColor\" text-anchor=\"middle\">det</textPath>\n",
              "    </text>\n",
              "    <path class=\"displacy-arrowhead\" d=\"M430,94.0 L422,82.0 438,82.0\" fill=\"currentColor\"/>\n",
              "</g>\n",
              "\n",
              "<g class=\"displacy-arrow\">\n",
              "    <path class=\"displacy-arc\" id=\"arrow-ccceb5f470804bc090f49d6f2561d063-0-4\" stroke-width=\"2px\" d=\"M340,92.0 C340,2.0 500.0,2.0 500.0,92.0\" fill=\"none\" stroke=\"currentColor\"/>\n",
              "    <text dy=\"1.25em\" style=\"font-size: 0.8em; letter-spacing: 1px\">\n",
              "        <textPath xlink:href=\"#arrow-ccceb5f470804bc090f49d6f2561d063-0-4\" class=\"displacy-label\" startOffset=\"50%\" side=\"left\" fill=\"currentColor\" text-anchor=\"middle\">pobj</textPath>\n",
              "    </text>\n",
              "    <path class=\"displacy-arrowhead\" d=\"M500.0,94.0 L508.0,82.0 492.0,82.0\" fill=\"currentColor\"/>\n",
              "</g>\n",
              "\n",
              "<g class=\"displacy-arrow\">\n",
              "    <path class=\"displacy-arc\" id=\"arrow-ccceb5f470804bc090f49d6f2561d063-0-5\" stroke-width=\"2px\" d=\"M520,92.0 C520,47.0 585.0,47.0 585.0,92.0\" fill=\"none\" stroke=\"currentColor\"/>\n",
              "    <text dy=\"1.25em\" style=\"font-size: 0.8em; letter-spacing: 1px\">\n",
              "        <textPath xlink:href=\"#arrow-ccceb5f470804bc090f49d6f2561d063-0-5\" class=\"displacy-label\" startOffset=\"50%\" side=\"left\" fill=\"currentColor\" text-anchor=\"middle\">cc</textPath>\n",
              "    </text>\n",
              "    <path class=\"displacy-arrowhead\" d=\"M585.0,94.0 L593.0,82.0 577.0,82.0\" fill=\"currentColor\"/>\n",
              "</g>\n",
              "\n",
              "<g class=\"displacy-arrow\">\n",
              "    <path class=\"displacy-arc\" id=\"arrow-ccceb5f470804bc090f49d6f2561d063-0-6\" stroke-width=\"2px\" d=\"M700,92.0 C700,47.0 765.0,47.0 765.0,92.0\" fill=\"none\" stroke=\"currentColor\"/>\n",
              "    <text dy=\"1.25em\" style=\"font-size: 0.8em; letter-spacing: 1px\">\n",
              "        <textPath xlink:href=\"#arrow-ccceb5f470804bc090f49d6f2561d063-0-6\" class=\"displacy-label\" startOffset=\"50%\" side=\"left\" fill=\"currentColor\" text-anchor=\"middle\">det</textPath>\n",
              "    </text>\n",
              "    <path class=\"displacy-arrowhead\" d=\"M700,94.0 L692,82.0 708,82.0\" fill=\"currentColor\"/>\n",
              "</g>\n",
              "\n",
              "<g class=\"displacy-arrow\">\n",
              "    <path class=\"displacy-arc\" id=\"arrow-ccceb5f470804bc090f49d6f2561d063-0-7\" stroke-width=\"2px\" d=\"M520,92.0 C520,2.0 770.0,2.0 770.0,92.0\" fill=\"none\" stroke=\"currentColor\"/>\n",
              "    <text dy=\"1.25em\" style=\"font-size: 0.8em; letter-spacing: 1px\">\n",
              "        <textPath xlink:href=\"#arrow-ccceb5f470804bc090f49d6f2561d063-0-7\" class=\"displacy-label\" startOffset=\"50%\" side=\"left\" fill=\"currentColor\" text-anchor=\"middle\">conj</textPath>\n",
              "    </text>\n",
              "    <path class=\"displacy-arrowhead\" d=\"M770.0,94.0 L778.0,82.0 762.0,82.0\" fill=\"currentColor\"/>\n",
              "</g>\n",
              "\n",
              "<g class=\"displacy-arrow\">\n",
              "    <path class=\"displacy-arc\" id=\"arrow-ccceb5f470804bc090f49d6f2561d063-0-8\" stroke-width=\"2px\" d=\"M790,92.0 C790,47.0 855.0,47.0 855.0,92.0\" fill=\"none\" stroke=\"currentColor\"/>\n",
              "    <text dy=\"1.25em\" style=\"font-size: 0.8em; letter-spacing: 1px\">\n",
              "        <textPath xlink:href=\"#arrow-ccceb5f470804bc090f49d6f2561d063-0-8\" class=\"displacy-label\" startOffset=\"50%\" side=\"left\" fill=\"currentColor\" text-anchor=\"middle\">prep</textPath>\n",
              "    </text>\n",
              "    <path class=\"displacy-arrowhead\" d=\"M855.0,94.0 L863.0,82.0 847.0,82.0\" fill=\"currentColor\"/>\n",
              "</g>\n",
              "\n",
              "<g class=\"displacy-arrow\">\n",
              "    <path class=\"displacy-arc\" id=\"arrow-ccceb5f470804bc090f49d6f2561d063-0-9\" stroke-width=\"2px\" d=\"M970,92.0 C970,47.0 1035.0,47.0 1035.0,92.0\" fill=\"none\" stroke=\"currentColor\"/>\n",
              "    <text dy=\"1.25em\" style=\"font-size: 0.8em; letter-spacing: 1px\">\n",
              "        <textPath xlink:href=\"#arrow-ccceb5f470804bc090f49d6f2561d063-0-9\" class=\"displacy-label\" startOffset=\"50%\" side=\"left\" fill=\"currentColor\" text-anchor=\"middle\">det</textPath>\n",
              "    </text>\n",
              "    <path class=\"displacy-arrowhead\" d=\"M970,94.0 L962,82.0 978,82.0\" fill=\"currentColor\"/>\n",
              "</g>\n",
              "\n",
              "<g class=\"displacy-arrow\">\n",
              "    <path class=\"displacy-arc\" id=\"arrow-ccceb5f470804bc090f49d6f2561d063-0-10\" stroke-width=\"2px\" d=\"M880,92.0 C880,2.0 1040.0,2.0 1040.0,92.0\" fill=\"none\" stroke=\"currentColor\"/>\n",
              "    <text dy=\"1.25em\" style=\"font-size: 0.8em; letter-spacing: 1px\">\n",
              "        <textPath xlink:href=\"#arrow-ccceb5f470804bc090f49d6f2561d063-0-10\" class=\"displacy-label\" startOffset=\"50%\" side=\"left\" fill=\"currentColor\" text-anchor=\"middle\">pobj</textPath>\n",
              "    </text>\n",
              "    <path class=\"displacy-arrowhead\" d=\"M1040.0,94.0 L1048.0,82.0 1032.0,82.0\" fill=\"currentColor\"/>\n",
              "</g>\n",
              "</svg></span>"
            ]
          },
          "metadata": {}
        }
      ]
    },
    {
      "cell_type": "code",
      "metadata": {
        "colab": {
          "base_uri": "https://localhost:8080/"
        },
        "id": "oaODOOdsnZMJ",
        "outputId": "1ae054c7-e09b-44de-9639-7125af076305"
      },
      "source": [
        "list(document[2].ancestors)"
      ],
      "execution_count": null,
      "outputs": [
        {
          "output_type": "execute_result",
          "data": {
            "text/plain": [
              "[Book]"
            ]
          },
          "metadata": {},
          "execution_count": 51
        }
      ]
    },
    {
      "cell_type": "code",
      "metadata": {
        "colab": {
          "base_uri": "https://localhost:8080/"
        },
        "id": "bzm6eg6pnlma",
        "outputId": "095de4d5-46e1-4055-cbfb-92ab7dfb543c"
      },
      "source": [
        "list(document[2].children)"
      ],
      "execution_count": null,
      "outputs": [
        {
          "output_type": "execute_result",
          "data": {
            "text/plain": [
              "[a, for]"
            ]
          },
          "metadata": {},
          "execution_count": 52
        }
      ]
    },
    {
      "cell_type": "markdown",
      "metadata": {
        "id": "Yfwi5m-4qQt2"
      },
      "source": [
        "## Example 4"
      ]
    },
    {
      "cell_type": "code",
      "metadata": {
        "colab": {
          "base_uri": "https://localhost:8080/"
        },
        "id": "9s9432QvohsP",
        "outputId": "c3dc094c-d4d0-4d2b-c852-e4fc9176b896"
      },
      "source": [
        "document = nlp('What places can we visit in London and stay in Paris?')\n",
        "locations = document[6], document[10]\n",
        "actions = document[4], document[8]\n",
        "print(locations, actions)"
      ],
      "execution_count": null,
      "outputs": [
        {
          "output_type": "stream",
          "name": "stdout",
          "text": [
            "(London, Paris) (visit, stay)\n"
          ]
        }
      ]
    },
    {
      "cell_type": "code",
      "metadata": {
        "colab": {
          "base_uri": "https://localhost:8080/"
        },
        "id": "HYzvNk4xrmYh",
        "outputId": "2d116f62-8810-4d99-953f-670944056b85"
      },
      "source": [
        "for local in locations:\n",
        "  #print(local)\n",
        "  for action in local.ancestors:\n",
        "    if action in actions:\n",
        "      print('{} to {}'.format(local, action))\n",
        "      break"
      ],
      "execution_count": null,
      "outputs": [
        {
          "output_type": "stream",
          "name": "stdout",
          "text": [
            "London to visit\n",
            "Paris to stay\n"
          ]
        }
      ]
    },
    {
      "cell_type": "code",
      "metadata": {
        "colab": {
          "base_uri": "https://localhost:8080/",
          "height": 293
        },
        "id": "6Kgl4_grsB9S",
        "outputId": "47faa2ec-74f4-4473-9c17-226e92c84930"
      },
      "source": [
        "displacy.render(document, style='dep', jupyter=True, options={'distance': 90})"
      ],
      "execution_count": null,
      "outputs": [
        {
          "output_type": "display_data",
          "data": {
            "text/plain": [
              "<IPython.core.display.HTML object>"
            ],
            "text/html": [
              "<span class=\"tex2jax_ignore\"><svg xmlns=\"http://www.w3.org/2000/svg\" xmlns:xlink=\"http://www.w3.org/1999/xlink\" xml:lang=\"en\" id=\"eab1c9c293454644bc88d7a77f0024ee-0\" class=\"displacy\" width=\"1040\" height=\"272.0\" direction=\"ltr\" style=\"max-width: none; height: 272.0px; color: #000000; background: #ffffff; font-family: Arial; direction: ltr\">\n",
              "<text class=\"displacy-token\" fill=\"currentColor\" text-anchor=\"middle\" y=\"182.0\">\n",
              "    <tspan class=\"displacy-word\" fill=\"currentColor\" x=\"50\">What</tspan>\n",
              "    <tspan class=\"displacy-tag\" dy=\"2em\" fill=\"currentColor\" x=\"50\">DET</tspan>\n",
              "</text>\n",
              "\n",
              "<text class=\"displacy-token\" fill=\"currentColor\" text-anchor=\"middle\" y=\"182.0\">\n",
              "    <tspan class=\"displacy-word\" fill=\"currentColor\" x=\"140\">places</tspan>\n",
              "    <tspan class=\"displacy-tag\" dy=\"2em\" fill=\"currentColor\" x=\"140\">NOUN</tspan>\n",
              "</text>\n",
              "\n",
              "<text class=\"displacy-token\" fill=\"currentColor\" text-anchor=\"middle\" y=\"182.0\">\n",
              "    <tspan class=\"displacy-word\" fill=\"currentColor\" x=\"230\">can</tspan>\n",
              "    <tspan class=\"displacy-tag\" dy=\"2em\" fill=\"currentColor\" x=\"230\">AUX</tspan>\n",
              "</text>\n",
              "\n",
              "<text class=\"displacy-token\" fill=\"currentColor\" text-anchor=\"middle\" y=\"182.0\">\n",
              "    <tspan class=\"displacy-word\" fill=\"currentColor\" x=\"320\">we</tspan>\n",
              "    <tspan class=\"displacy-tag\" dy=\"2em\" fill=\"currentColor\" x=\"320\">PRON</tspan>\n",
              "</text>\n",
              "\n",
              "<text class=\"displacy-token\" fill=\"currentColor\" text-anchor=\"middle\" y=\"182.0\">\n",
              "    <tspan class=\"displacy-word\" fill=\"currentColor\" x=\"410\">visit</tspan>\n",
              "    <tspan class=\"displacy-tag\" dy=\"2em\" fill=\"currentColor\" x=\"410\">VERB</tspan>\n",
              "</text>\n",
              "\n",
              "<text class=\"displacy-token\" fill=\"currentColor\" text-anchor=\"middle\" y=\"182.0\">\n",
              "    <tspan class=\"displacy-word\" fill=\"currentColor\" x=\"500\">in</tspan>\n",
              "    <tspan class=\"displacy-tag\" dy=\"2em\" fill=\"currentColor\" x=\"500\">ADP</tspan>\n",
              "</text>\n",
              "\n",
              "<text class=\"displacy-token\" fill=\"currentColor\" text-anchor=\"middle\" y=\"182.0\">\n",
              "    <tspan class=\"displacy-word\" fill=\"currentColor\" x=\"590\">London</tspan>\n",
              "    <tspan class=\"displacy-tag\" dy=\"2em\" fill=\"currentColor\" x=\"590\">PROPN</tspan>\n",
              "</text>\n",
              "\n",
              "<text class=\"displacy-token\" fill=\"currentColor\" text-anchor=\"middle\" y=\"182.0\">\n",
              "    <tspan class=\"displacy-word\" fill=\"currentColor\" x=\"680\">and</tspan>\n",
              "    <tspan class=\"displacy-tag\" dy=\"2em\" fill=\"currentColor\" x=\"680\">CCONJ</tspan>\n",
              "</text>\n",
              "\n",
              "<text class=\"displacy-token\" fill=\"currentColor\" text-anchor=\"middle\" y=\"182.0\">\n",
              "    <tspan class=\"displacy-word\" fill=\"currentColor\" x=\"770\">stay</tspan>\n",
              "    <tspan class=\"displacy-tag\" dy=\"2em\" fill=\"currentColor\" x=\"770\">VERB</tspan>\n",
              "</text>\n",
              "\n",
              "<text class=\"displacy-token\" fill=\"currentColor\" text-anchor=\"middle\" y=\"182.0\">\n",
              "    <tspan class=\"displacy-word\" fill=\"currentColor\" x=\"860\">in</tspan>\n",
              "    <tspan class=\"displacy-tag\" dy=\"2em\" fill=\"currentColor\" x=\"860\">ADP</tspan>\n",
              "</text>\n",
              "\n",
              "<text class=\"displacy-token\" fill=\"currentColor\" text-anchor=\"middle\" y=\"182.0\">\n",
              "    <tspan class=\"displacy-word\" fill=\"currentColor\" x=\"950\">Paris?</tspan>\n",
              "    <tspan class=\"displacy-tag\" dy=\"2em\" fill=\"currentColor\" x=\"950\">PROPN</tspan>\n",
              "</text>\n",
              "\n",
              "<g class=\"displacy-arrow\">\n",
              "    <path class=\"displacy-arc\" id=\"arrow-eab1c9c293454644bc88d7a77f0024ee-0-0\" stroke-width=\"2px\" d=\"M70,137.0 C70,92.0 130.0,92.0 130.0,137.0\" fill=\"none\" stroke=\"currentColor\"/>\n",
              "    <text dy=\"1.25em\" style=\"font-size: 0.8em; letter-spacing: 1px\">\n",
              "        <textPath xlink:href=\"#arrow-eab1c9c293454644bc88d7a77f0024ee-0-0\" class=\"displacy-label\" startOffset=\"50%\" side=\"left\" fill=\"currentColor\" text-anchor=\"middle\">det</textPath>\n",
              "    </text>\n",
              "    <path class=\"displacy-arrowhead\" d=\"M70,139.0 L62,127.0 78,127.0\" fill=\"currentColor\"/>\n",
              "</g>\n",
              "\n",
              "<g class=\"displacy-arrow\">\n",
              "    <path class=\"displacy-arc\" id=\"arrow-eab1c9c293454644bc88d7a77f0024ee-0-1\" stroke-width=\"2px\" d=\"M160,137.0 C160,2.0 410.0,2.0 410.0,137.0\" fill=\"none\" stroke=\"currentColor\"/>\n",
              "    <text dy=\"1.25em\" style=\"font-size: 0.8em; letter-spacing: 1px\">\n",
              "        <textPath xlink:href=\"#arrow-eab1c9c293454644bc88d7a77f0024ee-0-1\" class=\"displacy-label\" startOffset=\"50%\" side=\"left\" fill=\"currentColor\" text-anchor=\"middle\">dobj</textPath>\n",
              "    </text>\n",
              "    <path class=\"displacy-arrowhead\" d=\"M160,139.0 L152,127.0 168,127.0\" fill=\"currentColor\"/>\n",
              "</g>\n",
              "\n",
              "<g class=\"displacy-arrow\">\n",
              "    <path class=\"displacy-arc\" id=\"arrow-eab1c9c293454644bc88d7a77f0024ee-0-2\" stroke-width=\"2px\" d=\"M250,137.0 C250,47.0 405.0,47.0 405.0,137.0\" fill=\"none\" stroke=\"currentColor\"/>\n",
              "    <text dy=\"1.25em\" style=\"font-size: 0.8em; letter-spacing: 1px\">\n",
              "        <textPath xlink:href=\"#arrow-eab1c9c293454644bc88d7a77f0024ee-0-2\" class=\"displacy-label\" startOffset=\"50%\" side=\"left\" fill=\"currentColor\" text-anchor=\"middle\">aux</textPath>\n",
              "    </text>\n",
              "    <path class=\"displacy-arrowhead\" d=\"M250,139.0 L242,127.0 258,127.0\" fill=\"currentColor\"/>\n",
              "</g>\n",
              "\n",
              "<g class=\"displacy-arrow\">\n",
              "    <path class=\"displacy-arc\" id=\"arrow-eab1c9c293454644bc88d7a77f0024ee-0-3\" stroke-width=\"2px\" d=\"M340,137.0 C340,92.0 400.0,92.0 400.0,137.0\" fill=\"none\" stroke=\"currentColor\"/>\n",
              "    <text dy=\"1.25em\" style=\"font-size: 0.8em; letter-spacing: 1px\">\n",
              "        <textPath xlink:href=\"#arrow-eab1c9c293454644bc88d7a77f0024ee-0-3\" class=\"displacy-label\" startOffset=\"50%\" side=\"left\" fill=\"currentColor\" text-anchor=\"middle\">nsubj</textPath>\n",
              "    </text>\n",
              "    <path class=\"displacy-arrowhead\" d=\"M340,139.0 L332,127.0 348,127.0\" fill=\"currentColor\"/>\n",
              "</g>\n",
              "\n",
              "<g class=\"displacy-arrow\">\n",
              "    <path class=\"displacy-arc\" id=\"arrow-eab1c9c293454644bc88d7a77f0024ee-0-4\" stroke-width=\"2px\" d=\"M430,137.0 C430,92.0 490.0,92.0 490.0,137.0\" fill=\"none\" stroke=\"currentColor\"/>\n",
              "    <text dy=\"1.25em\" style=\"font-size: 0.8em; letter-spacing: 1px\">\n",
              "        <textPath xlink:href=\"#arrow-eab1c9c293454644bc88d7a77f0024ee-0-4\" class=\"displacy-label\" startOffset=\"50%\" side=\"left\" fill=\"currentColor\" text-anchor=\"middle\">prep</textPath>\n",
              "    </text>\n",
              "    <path class=\"displacy-arrowhead\" d=\"M490.0,139.0 L498.0,127.0 482.0,127.0\" fill=\"currentColor\"/>\n",
              "</g>\n",
              "\n",
              "<g class=\"displacy-arrow\">\n",
              "    <path class=\"displacy-arc\" id=\"arrow-eab1c9c293454644bc88d7a77f0024ee-0-5\" stroke-width=\"2px\" d=\"M520,137.0 C520,92.0 580.0,92.0 580.0,137.0\" fill=\"none\" stroke=\"currentColor\"/>\n",
              "    <text dy=\"1.25em\" style=\"font-size: 0.8em; letter-spacing: 1px\">\n",
              "        <textPath xlink:href=\"#arrow-eab1c9c293454644bc88d7a77f0024ee-0-5\" class=\"displacy-label\" startOffset=\"50%\" side=\"left\" fill=\"currentColor\" text-anchor=\"middle\">pobj</textPath>\n",
              "    </text>\n",
              "    <path class=\"displacy-arrowhead\" d=\"M580.0,139.0 L588.0,127.0 572.0,127.0\" fill=\"currentColor\"/>\n",
              "</g>\n",
              "\n",
              "<g class=\"displacy-arrow\">\n",
              "    <path class=\"displacy-arc\" id=\"arrow-eab1c9c293454644bc88d7a77f0024ee-0-6\" stroke-width=\"2px\" d=\"M430,137.0 C430,47.0 675.0,47.0 675.0,137.0\" fill=\"none\" stroke=\"currentColor\"/>\n",
              "    <text dy=\"1.25em\" style=\"font-size: 0.8em; letter-spacing: 1px\">\n",
              "        <textPath xlink:href=\"#arrow-eab1c9c293454644bc88d7a77f0024ee-0-6\" class=\"displacy-label\" startOffset=\"50%\" side=\"left\" fill=\"currentColor\" text-anchor=\"middle\">cc</textPath>\n",
              "    </text>\n",
              "    <path class=\"displacy-arrowhead\" d=\"M675.0,139.0 L683.0,127.0 667.0,127.0\" fill=\"currentColor\"/>\n",
              "</g>\n",
              "\n",
              "<g class=\"displacy-arrow\">\n",
              "    <path class=\"displacy-arc\" id=\"arrow-eab1c9c293454644bc88d7a77f0024ee-0-7\" stroke-width=\"2px\" d=\"M430,137.0 C430,2.0 770.0,2.0 770.0,137.0\" fill=\"none\" stroke=\"currentColor\"/>\n",
              "    <text dy=\"1.25em\" style=\"font-size: 0.8em; letter-spacing: 1px\">\n",
              "        <textPath xlink:href=\"#arrow-eab1c9c293454644bc88d7a77f0024ee-0-7\" class=\"displacy-label\" startOffset=\"50%\" side=\"left\" fill=\"currentColor\" text-anchor=\"middle\">conj</textPath>\n",
              "    </text>\n",
              "    <path class=\"displacy-arrowhead\" d=\"M770.0,139.0 L778.0,127.0 762.0,127.0\" fill=\"currentColor\"/>\n",
              "</g>\n",
              "\n",
              "<g class=\"displacy-arrow\">\n",
              "    <path class=\"displacy-arc\" id=\"arrow-eab1c9c293454644bc88d7a77f0024ee-0-8\" stroke-width=\"2px\" d=\"M790,137.0 C790,92.0 850.0,92.0 850.0,137.0\" fill=\"none\" stroke=\"currentColor\"/>\n",
              "    <text dy=\"1.25em\" style=\"font-size: 0.8em; letter-spacing: 1px\">\n",
              "        <textPath xlink:href=\"#arrow-eab1c9c293454644bc88d7a77f0024ee-0-8\" class=\"displacy-label\" startOffset=\"50%\" side=\"left\" fill=\"currentColor\" text-anchor=\"middle\">prep</textPath>\n",
              "    </text>\n",
              "    <path class=\"displacy-arrowhead\" d=\"M850.0,139.0 L858.0,127.0 842.0,127.0\" fill=\"currentColor\"/>\n",
              "</g>\n",
              "\n",
              "<g class=\"displacy-arrow\">\n",
              "    <path class=\"displacy-arc\" id=\"arrow-eab1c9c293454644bc88d7a77f0024ee-0-9\" stroke-width=\"2px\" d=\"M880,137.0 C880,92.0 940.0,92.0 940.0,137.0\" fill=\"none\" stroke=\"currentColor\"/>\n",
              "    <text dy=\"1.25em\" style=\"font-size: 0.8em; letter-spacing: 1px\">\n",
              "        <textPath xlink:href=\"#arrow-eab1c9c293454644bc88d7a77f0024ee-0-9\" class=\"displacy-label\" startOffset=\"50%\" side=\"left\" fill=\"currentColor\" text-anchor=\"middle\">pobj</textPath>\n",
              "    </text>\n",
              "    <path class=\"displacy-arrowhead\" d=\"M940.0,139.0 L948.0,127.0 932.0,127.0\" fill=\"currentColor\"/>\n",
              "</g>\n",
              "</svg></span>"
            ]
          },
          "metadata": {}
        }
      ]
    },
    {
      "cell_type": "markdown",
      "metadata": {
        "id": "cd8PYqtyxTt8"
      },
      "source": [
        "# Similarity between words and sentences\n",
        "\n",
        "- spaCy uses the GloVe algorithm (Global Vectors for Word Representation)\n",
        "- Original paper: https://nlp.stanford.edu/pubs/glove.pdf"
      ]
    },
    {
      "cell_type": "markdown",
      "metadata": {
        "id": "pLv1PTJz0sks"
      },
      "source": [
        "## Example 1"
      ]
    },
    {
      "cell_type": "code",
      "metadata": {
        "id": "DdecuceWtziV"
      },
      "source": [
        "w1 = nlp('hello')\n",
        "w2 = nlp('hi')\n",
        "w3 = nlp('or')"
      ],
      "execution_count": null,
      "outputs": []
    },
    {
      "cell_type": "code",
      "metadata": {
        "colab": {
          "base_uri": "https://localhost:8080/"
        },
        "id": "FqLZCLFHuITK",
        "outputId": "3d3aeaf0-9e80-4dc9-df1c-bcb6dbdba774"
      },
      "source": [
        "w1.similarity(w2)"
      ],
      "execution_count": null,
      "outputs": [
        {
          "output_type": "stream",
          "name": "stderr",
          "text": [
            "<ipython-input-57-83685a01db20>:1: UserWarning: [W007] The model you're using has no word vectors loaded, so the result of the Doc.similarity method will be based on the tagger, parser and NER, which may not give useful similarity judgements. This may happen if you're using one of the small models, e.g. `en_core_web_sm`, which don't ship with word vectors and only use context-sensitive tensors. You can always add your own word vectors, or use one of the larger models instead if available.\n",
            "  w1.similarity(w2)\n"
          ]
        },
        {
          "output_type": "execute_result",
          "data": {
            "text/plain": [
              "0.7161104995803708"
            ]
          },
          "metadata": {},
          "execution_count": 57
        }
      ]
    },
    {
      "cell_type": "code",
      "metadata": {
        "colab": {
          "base_uri": "https://localhost:8080/"
        },
        "id": "P1isrdIYuewK",
        "outputId": "c6f564d7-81ae-446c-f056-74de10bb8c66"
      },
      "source": [
        "w2.similarity(w1)"
      ],
      "execution_count": null,
      "outputs": [
        {
          "output_type": "stream",
          "name": "stderr",
          "text": [
            "<ipython-input-58-19d2f2989fb4>:1: UserWarning: [W007] The model you're using has no word vectors loaded, so the result of the Doc.similarity method will be based on the tagger, parser and NER, which may not give useful similarity judgements. This may happen if you're using one of the small models, e.g. `en_core_web_sm`, which don't ship with word vectors and only use context-sensitive tensors. You can always add your own word vectors, or use one of the larger models instead if available.\n",
            "  w2.similarity(w1)\n"
          ]
        },
        {
          "output_type": "execute_result",
          "data": {
            "text/plain": [
              "0.7161104995803708"
            ]
          },
          "metadata": {},
          "execution_count": 58
        }
      ]
    },
    {
      "cell_type": "code",
      "metadata": {
        "colab": {
          "base_uri": "https://localhost:8080/"
        },
        "id": "TOWZx_e8uibI",
        "outputId": "ddad9917-2783-4cbc-8a36-0409df992bdb"
      },
      "source": [
        "w1.similarity(w3)"
      ],
      "execution_count": null,
      "outputs": [
        {
          "output_type": "stream",
          "name": "stderr",
          "text": [
            "<ipython-input-59-7e00fabb65c2>:1: UserWarning: [W007] The model you're using has no word vectors loaded, so the result of the Doc.similarity method will be based on the tagger, parser and NER, which may not give useful similarity judgements. This may happen if you're using one of the small models, e.g. `en_core_web_sm`, which don't ship with word vectors and only use context-sensitive tensors. You can always add your own word vectors, or use one of the larger models instead if available.\n",
            "  w1.similarity(w3)\n"
          ]
        },
        {
          "output_type": "execute_result",
          "data": {
            "text/plain": [
              "0.1586774408088656"
            ]
          },
          "metadata": {},
          "execution_count": 59
        }
      ]
    },
    {
      "cell_type": "code",
      "metadata": {
        "colab": {
          "base_uri": "https://localhost:8080/"
        },
        "id": "lFytVanguuXb",
        "outputId": "4b14bb7b-51d5-487e-8e71-a6a36f8c5f58"
      },
      "source": [
        "w2.similarity(w3)"
      ],
      "execution_count": null,
      "outputs": [
        {
          "output_type": "stream",
          "name": "stderr",
          "text": [
            "<ipython-input-60-2d5e99d3c924>:1: UserWarning: [W007] The model you're using has no word vectors loaded, so the result of the Doc.similarity method will be based on the tagger, parser and NER, which may not give useful similarity judgements. This may happen if you're using one of the small models, e.g. `en_core_web_sm`, which don't ship with word vectors and only use context-sensitive tensors. You can always add your own word vectors, or use one of the larger models instead if available.\n",
            "  w2.similarity(w3)\n"
          ]
        },
        {
          "output_type": "execute_result",
          "data": {
            "text/plain": [
              "0.31475242221455424"
            ]
          },
          "metadata": {},
          "execution_count": 60
        }
      ]
    },
    {
      "cell_type": "code",
      "metadata": {
        "id": "8d2tTR-xu1fU"
      },
      "source": [
        "text1 = nlp('When will the new movie be released?')\n",
        "text2 = nlp('The new movie will be released next month')\n",
        "text3 = nlp('What color is the car?')"
      ],
      "execution_count": null,
      "outputs": []
    },
    {
      "cell_type": "code",
      "metadata": {
        "colab": {
          "base_uri": "https://localhost:8080/"
        },
        "id": "_LGrfTQ5u_yZ",
        "outputId": "ede02a8f-44a1-4821-f9f5-ad0d3eeef70f"
      },
      "source": [
        "text1.similarity(text2)"
      ],
      "execution_count": null,
      "outputs": [
        {
          "output_type": "stream",
          "name": "stderr",
          "text": [
            "<ipython-input-62-75371c85991f>:1: UserWarning: [W007] The model you're using has no word vectors loaded, so the result of the Doc.similarity method will be based on the tagger, parser and NER, which may not give useful similarity judgements. This may happen if you're using one of the small models, e.g. `en_core_web_sm`, which don't ship with word vectors and only use context-sensitive tensors. You can always add your own word vectors, or use one of the larger models instead if available.\n",
            "  text1.similarity(text2)\n"
          ]
        },
        {
          "output_type": "execute_result",
          "data": {
            "text/plain": [
              "0.701367333985553"
            ]
          },
          "metadata": {},
          "execution_count": 62
        }
      ]
    },
    {
      "cell_type": "code",
      "metadata": {
        "colab": {
          "base_uri": "https://localhost:8080/"
        },
        "id": "N5ogKIbgvGaq",
        "outputId": "324d7769-e635-43b9-80b4-21d2d630caaf"
      },
      "source": [
        "text1.similarity(text3)"
      ],
      "execution_count": null,
      "outputs": [
        {
          "output_type": "stream",
          "name": "stderr",
          "text": [
            "<ipython-input-63-cfd93779d2d0>:1: UserWarning: [W007] The model you're using has no word vectors loaded, so the result of the Doc.similarity method will be based on the tagger, parser and NER, which may not give useful similarity judgements. This may happen if you're using one of the small models, e.g. `en_core_web_sm`, which don't ship with word vectors and only use context-sensitive tensors. You can always add your own word vectors, or use one of the larger models instead if available.\n",
            "  text1.similarity(text3)\n"
          ]
        },
        {
          "output_type": "execute_result",
          "data": {
            "text/plain": [
              "0.4782758141062681"
            ]
          },
          "metadata": {},
          "execution_count": 63
        }
      ]
    },
    {
      "cell_type": "code",
      "metadata": {
        "id": "wbd7H3EFvTjr"
      },
      "source": [
        "# New York\n",
        "# Nw Yok"
      ],
      "execution_count": null,
      "outputs": []
    },
    {
      "cell_type": "markdown",
      "metadata": {
        "id": "c0CVDr5W0wkK"
      },
      "source": [
        "## Example 2"
      ]
    },
    {
      "cell_type": "code",
      "metadata": {
        "id": "3vD5xCbtweo7"
      },
      "source": [
        "text = nlp('cat dog horse person')"
      ],
      "execution_count": null,
      "outputs": []
    },
    {
      "cell_type": "code",
      "metadata": {
        "colab": {
          "base_uri": "https://localhost:8080/"
        },
        "id": "04OuzieOwrNr",
        "outputId": "67608cdf-9b06-4ae3-f9cc-dfed79a3d59d"
      },
      "source": [
        "for text1 in text:\n",
        "  #print('----', text1)\n",
        "  for text2 in text:\n",
        "    #print(text2)\n",
        "    similarity = text1.similarity(text2) * 100\n",
        "    print('{} is {}% similar to {}'.format(text1, similarity, text2))"
      ],
      "execution_count": null,
      "outputs": [
        {
          "output_type": "stream",
          "name": "stdout",
          "text": [
            "cat is 100.0% similar to cat\n",
            "cat is 55.56725263595581% similar to dog\n",
            "cat is 49.9476432800293% similar to horse\n",
            "cat is 19.96726244688034% similar to person\n",
            "dog is 55.56725263595581% similar to cat\n",
            "dog is 100.0% similar to dog\n",
            "dog is 66.69515371322632% similar to horse\n",
            "dog is 35.0044310092926% similar to person\n",
            "horse is 49.9476432800293% similar to cat\n",
            "horse is 66.69515371322632% similar to dog\n",
            "horse is 100.0% similar to horse\n",
            "horse is 28.581640124320984% similar to person\n",
            "person is 19.96726244688034% similar to cat\n",
            "person is 35.0044310092926% similar to dog\n",
            "person is 28.581640124320984% similar to horse\n",
            "person is 100.0% similar to person\n"
          ]
        },
        {
          "output_type": "stream",
          "name": "stderr",
          "text": [
            "<ipython-input-66-7e0c68c49e85>:5: UserWarning: [W007] The model you're using has no word vectors loaded, so the result of the Token.similarity method will be based on the tagger, parser and NER, which may not give useful similarity judgements. This may happen if you're using one of the small models, e.g. `en_core_web_sm`, which don't ship with word vectors and only use context-sensitive tensors. You can always add your own word vectors, or use one of the larger models instead if available.\n",
            "  similarity = text1.similarity(text2) * 100\n"
          ]
        }
      ]
    },
    {
      "cell_type": "markdown",
      "metadata": {
        "id": "zcgAkuB346vV"
      },
      "source": [
        "# Tokenization"
      ]
    },
    {
      "cell_type": "code",
      "metadata": {
        "id": "w6Dy-1eEybBP"
      },
      "source": [
        "document1 = nlp('I am learning natural language processing. The course is in London. Ph.d John is coming')"
      ],
      "execution_count": null,
      "outputs": []
    },
    {
      "cell_type": "code",
      "metadata": {
        "colab": {
          "base_uri": "https://localhost:8080/"
        },
        "id": "tKYYTV9h0AST",
        "outputId": "1944bae6-0700-4af7-a4a4-53f6d7dee4fa"
      },
      "source": [
        "for token in document1:\n",
        "  print(token)"
      ],
      "execution_count": null,
      "outputs": [
        {
          "output_type": "stream",
          "name": "stdout",
          "text": [
            "I\n",
            "am\n",
            "learning\n",
            "natural\n",
            "language\n",
            "processing\n",
            ".\n",
            "The\n",
            "course\n",
            "is\n",
            "in\n",
            "London\n",
            ".\n",
            "Ph.d\n",
            "John\n",
            "is\n",
            "coming\n"
          ]
        }
      ]
    },
    {
      "cell_type": "code",
      "metadata": {
        "colab": {
          "base_uri": "https://localhost:8080/"
        },
        "id": "7usSbb7z0J5s",
        "outputId": "6994f219-f7ad-435c-cfa8-e2c9b23301c8"
      },
      "source": [
        "document2 = 'I am learning natural language processing. The course is in London. Ph.d John is coming'\n",
        "document2.split('.')"
      ],
      "execution_count": null,
      "outputs": [
        {
          "output_type": "execute_result",
          "data": {
            "text/plain": [
              "['I am learning natural language processing',\n",
              " ' The course is in London',\n",
              " ' Ph',\n",
              " 'd John is coming']"
            ]
          },
          "metadata": {},
          "execution_count": 69
        }
      ]
    }
  ]
}